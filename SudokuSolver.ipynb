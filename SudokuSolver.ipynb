{
  "nbformat": 4,
  "nbformat_minor": 0,
  "metadata": {
    "colab": {
      "provenance": [],
      "collapsed_sections": []
    },
    "kernelspec": {
      "name": "python3",
      "display_name": "Python 3"
    },
    "language_info": {
      "name": "python"
    }
  },
  "cells": [
    {
      "cell_type": "markdown",
      "source": [
        "# Import packages"
      ],
      "metadata": {
        "id": "40iqW3MwHuD-"
      }
    },
    {
      "cell_type": "code",
      "execution_count": 47,
      "metadata": {
        "id": "z8M7k60mM01s"
      },
      "outputs": [],
      "source": [
        "import numpy as np\n",
        "\n",
        "from collections import Counter"
      ]
    },
    {
      "cell_type": "markdown",
      "source": [
        "# Create a Sudoku class"
      ],
      "metadata": {
        "id": "wuvUrz2HHssI"
      }
    },
    {
      "cell_type": "code",
      "source": [
        "class Sudoku():\n",
        "  \"\"\" Describes a Sudoku puzzle\n",
        "\n",
        "  Attributes:\n",
        "  -----------\n",
        "\n",
        "  sudo (np.array): \n",
        "    Integer Numpy array of shape (9,9) that holds the Sudoku's entries.\n",
        "  \n",
        "  Methods:\n",
        "  --------\n",
        "\n",
        "  print(): \n",
        "    Prints the Sudoku to stdout.\n",
        "\n",
        "  possibilities(i: int, j: int) -> set: \n",
        "    Returns a set of integers holding all possible numbers for the field with \n",
        "    row index i and column index j.\n",
        "  \n",
        "  is_valid() -> bool:\n",
        "    Checks if the Sudoku is valid.\n",
        "\n",
        "  solve() -> bool:\n",
        "    Tries to solve the Sudoku in-place and returns True if it was successful\n",
        "    and False otherwise.\n",
        "  \n",
        "  solve_helper() -> bool:\n",
        "    Auxiliary function to solve the Sudoku called by solve().\n",
        "  \"\"\"\n",
        "\n",
        "\n",
        "  def __init__(self, A = np.zeros([9,9], int)):\n",
        "    \"\"\" Initializes the Sudoku\n",
        "\n",
        "    Args:\n",
        "      A (np.array) = np.zeros([9,9], int): Integer Numpy array that holds\n",
        "        the entries of the Sudoku\n",
        "    \"\"\"\n",
        "\n",
        "    self.sudo = np.array(A, int)\n",
        "\n",
        "\n",
        "  def print(self):\n",
        "    \"\"\" Prints the Sudoku to stdout\n",
        "    \"\"\"\n",
        "\n",
        "    for i in range(9):\n",
        "      line = \"\"\n",
        "\n",
        "      # Create the content of the new line\n",
        "      for j in range(9):\n",
        "\n",
        "        # Every third letter is \"|\"\n",
        "        if not j % 3 and j != 0:\n",
        "          line += \"| \"\n",
        "\n",
        "        # If the entry is not 0 print it, otherwise put a whitespace\n",
        "        if self.sudo[i,j] != 0:\n",
        "          line += str(self.sudo[i,j]) + \" \"\n",
        "        else:\n",
        "          line += \"  \"\n",
        "\n",
        "      # Every third row put a horizontal line  \n",
        "      if not i % 3 and i != 0:\n",
        "        print( \"---------------------\" )\n",
        "      print(line)\n",
        "  \n",
        "  \n",
        "  def possibilities(self, i, j):\n",
        "    \"\"\" Returns a set of integers holding all possible numbers for the field \n",
        "    with row index i and column index j.\n",
        "\n",
        "    Args:\n",
        "      i (int): Row index\n",
        "      j (int): Column index\n",
        "    \n",
        "    Returns:\n",
        "      (set): a set of integers holding all possible numbers for the field \n",
        "        with row index i and column index j.\n",
        "    \"\"\"\n",
        "\n",
        "    complement = []\n",
        "\n",
        "    # Add all numbers in the same row to complement\n",
        "    for k in range(9):\n",
        "      x = self.sudo[i,k]\n",
        "      if x != 0:\n",
        "        complement += [x]\n",
        "\n",
        "    # Add all numbers in the same column to complement\n",
        "    for k in range(9):\n",
        "      x = self.sudo[k,j]\n",
        "      if x != 0:\n",
        "        complement += [x]\n",
        "    \n",
        "    # Add all numbers in the same 3x3-square to complement\n",
        "    a = i // 3\n",
        "    b = j // 3\n",
        "    for k in range(3):\n",
        "      for l in range(3):\n",
        "        x = self.sudo[3*a + k, 3*b + l]\n",
        "        if x != 0:\n",
        "          complement += [x]\n",
        "    \n",
        "    # Return possible numbers\n",
        "    return set(range(1,10)) - set(complement)\n",
        "\n",
        "\n",
        "  def is_valid(self):\n",
        "    \"\"\" Checks if the Sudoku is valid.\n",
        "\n",
        "    Returns:\n",
        "      (bool): True if the Sudoku is valid, False otherwise.\n",
        "    \"\"\"\n",
        "\n",
        "    # Check each row\n",
        "    for i in range(9):\n",
        "\n",
        "      # Count how often each number appears in row i\n",
        "      c = Counter(self.sudo[i,:])\n",
        "\n",
        "      # If a number appears more than once the Sudoku is invalid\n",
        "      for k, v in c.items():\n",
        "\n",
        "        # Note that 0 indicates an empty field\n",
        "        if k != 0 and v > 1:\n",
        "          return False\n",
        "\n",
        "    for j in range(9):\n",
        "\n",
        "      # Count how often each number appears in column j\n",
        "      c = Counter(self.sudo[:,j])\n",
        "\n",
        "      # If a number appears more than once the Sudoku is invalid\n",
        "      for k, v in c.items():\n",
        "\n",
        "        # Note that 0 indicates an empty field\n",
        "        if k != 0 and v > 1:\n",
        "          return False\n",
        "\n",
        "    for i in range(3):\n",
        "      for j in range(3):\n",
        "        c = Counter()\n",
        "\n",
        "        for k in range(3):\n",
        "          c.update(self.sudo[3*i + k, 3*j : 3*j + 3])\n",
        "        \n",
        "        for k, v in c.items():\n",
        "\n",
        "          # Note that 0 indicates an empty field\n",
        "          if k != 0 and v > 1:\n",
        "            return False\n",
        "\n",
        "    return True\n",
        "\n",
        "  \n",
        "  def solve(self):\n",
        "    \"\"\" Tries to solve the Sudoku in-place.\n",
        "\n",
        "    Returns:\n",
        "      (bool): True if it could solve the Sudoku, False otherwise.\n",
        "    \n",
        "    Raises:\n",
        "      (ValueError): If the given Sudoku is not valid.\n",
        "    \"\"\"\n",
        "\n",
        "    if self.is_valid():\n",
        "\n",
        "      return self.solve_helper()\n",
        "    else:\n",
        "\n",
        "      raise ValueError('Sudoku is invalid. Invalid Sudokus cannot be solved.')\n",
        "\n",
        "  \n",
        "  def solve_helper(self):\n",
        "    \"\"\" Tries to recursively solve the Sudoku in-place.\n",
        "\n",
        "    Returns:\n",
        "      (bool): True if it could solve the Sudoku, False otherwise.\n",
        "    \"\"\"\n",
        "\n",
        "    # Solve the Sudoku recursively in-place:\n",
        "\n",
        "    # i0, j0 is the position of the first 0 entry\n",
        "    i0, j0 = None, None\n",
        "\n",
        "    # Find the first 0 entry and store its position in i0, j0\n",
        "    for i in range(9):\n",
        "      for j in range(9):\n",
        "        if self.sudo[i,j] == 0:\n",
        "          i0 = i\n",
        "          j0 = j\n",
        "          break\n",
        "\n",
        "    # If the Sudoku is completely filled in we are done\n",
        "    if i0 is None:\n",
        "      return True\n",
        "    \n",
        "    # Otherwise we consider all the possible numbers at i0, j0\n",
        "    pos = self.possibilities(i0,j0)\n",
        "\n",
        "    if pos:\n",
        "\n",
        "      # If there are some possibilities...\n",
        "      for x in pos:\n",
        "\n",
        "        # ... iterate through them...\n",
        "        self.sudo[i0,j0] = x\n",
        "\n",
        "        # ... and see if they solve the Sudoku:\n",
        "        if self.solve_helper():\n",
        "          return True\n",
        "\n",
        "      # If none of the possible entries at i0, j0 can solve the Sudoku\n",
        "      # we clear the field...\n",
        "      self.sudo[i0,j0] = 0\n",
        "\n",
        "      # ... and return False\n",
        "      return False\n",
        "\n",
        "    # If there are no possible entries at i0, j0 we clear the field...\n",
        "    self.sudo[i0,j0] = 0\n",
        "\n",
        "    # ... and return False\n",
        "    return False"
      ],
      "metadata": {
        "id": "beCplUzN9aZQ"
      },
      "execution_count": 48,
      "outputs": []
    },
    {
      "cell_type": "markdown",
      "source": [
        "# Test run with a valid Sudoku"
      ],
      "metadata": {
        "id": "GRv5xGLxH9QT"
      }
    },
    {
      "cell_type": "code",
      "source": [
        "A = [\n",
        "     [0,6,0,0,1,0,8,7,0],\n",
        "     [0,9,0,0,8,0,6,0,0],\n",
        "     [0,0,0,6,2,0,0,0,0],\n",
        "     [0,0,0,9,6,0,0,0,0],\n",
        "     [0,0,5,0,0,0,0,0,2],\n",
        "     [0,7,9,0,0,0,0,0,5],\n",
        "     [0,0,0,0,0,4,0,0,0],\n",
        "     [2,0,0,0,0,0,0,8,0],\n",
        "     [8,0,0,0,0,0,0,5,1]\n",
        "    ]\n",
        "s = Sudoku(A)\n",
        "s.print()"
      ],
      "metadata": {
        "colab": {
          "base_uri": "https://localhost:8080/"
        },
        "id": "GWZ6G2aoHQDS",
        "outputId": "63ba5096-3ebf-456c-eb9e-2a62cb587303"
      },
      "execution_count": 49,
      "outputs": [
        {
          "output_type": "stream",
          "name": "stdout",
          "text": [
            "  6   |   1   | 8 7   \n",
            "  9   |   8   | 6     \n",
            "      | 6 2   |       \n",
            "---------------------\n",
            "      | 9 6   |       \n",
            "    5 |       |     2 \n",
            "  7 9 |       |     5 \n",
            "---------------------\n",
            "      |     4 |       \n",
            "2     |       |   8   \n",
            "8     |       |   5 1 \n"
          ]
        }
      ]
    },
    {
      "cell_type": "code",
      "source": [
        "s.solve()\n",
        "s.print()"
      ],
      "metadata": {
        "colab": {
          "base_uri": "https://localhost:8080/"
        },
        "id": "6RCgviFHH4Vc",
        "outputId": "7e35d3cd-f71e-4c0e-9f9c-3a57c8efe8f5"
      },
      "execution_count": 50,
      "outputs": [
        {
          "output_type": "stream",
          "name": "stdout",
          "text": [
            "5 6 2 | 4 1 3 | 8 7 9 \n",
            "1 9 4 | 5 8 7 | 6 2 3 \n",
            "7 3 8 | 6 2 9 | 5 1 4 \n",
            "---------------------\n",
            "3 2 1 | 9 6 5 | 7 4 8 \n",
            "6 8 5 | 7 4 1 | 3 9 2 \n",
            "4 7 9 | 2 3 8 | 1 6 5 \n",
            "---------------------\n",
            "9 1 7 | 8 5 4 | 2 3 6 \n",
            "2 5 3 | 1 9 6 | 4 8 7 \n",
            "8 4 6 | 3 7 2 | 9 5 1 \n"
          ]
        }
      ]
    },
    {
      "cell_type": "markdown",
      "source": [
        "# Test run with an *invalid* Sudoku"
      ],
      "metadata": {
        "id": "0BNG3KZhIFCu"
      }
    },
    {
      "cell_type": "code",
      "source": [
        "A = np.zeros([9,9])\n",
        "A[0,0] = 3\n",
        "A[1,1] = 3\n",
        "invalid_sudoku = Sudoku(A)\n",
        "invalid_sudoku.print()\n",
        "invalid_sudoku.solve()"
      ],
      "metadata": {
        "colab": {
          "base_uri": "https://localhost:8080/",
          "height": 538
        },
        "id": "Qii1S30ZP2co",
        "outputId": "0c4c64e1-0319-4c60-abd3-758e1b03c639"
      },
      "execution_count": 51,
      "outputs": [
        {
          "output_type": "stream",
          "name": "stdout",
          "text": [
            "3     |       |       \n",
            "  3   |       |       \n",
            "      |       |       \n",
            "---------------------\n",
            "      |       |       \n",
            "      |       |       \n",
            "      |       |       \n",
            "---------------------\n",
            "      |       |       \n",
            "      |       |       \n",
            "      |       |       \n"
          ]
        },
        {
          "output_type": "error",
          "ename": "ValueError",
          "evalue": "ignored",
          "traceback": [
            "\u001b[0;31m---------------------------------------------------------------------------\u001b[0m",
            "\u001b[0;31mValueError\u001b[0m                                Traceback (most recent call last)",
            "\u001b[0;32m<ipython-input-51-84d6ee45cc0e>\u001b[0m in \u001b[0;36m<module>\u001b[0;34m\u001b[0m\n\u001b[1;32m      4\u001b[0m \u001b[0minvalid_sudoku\u001b[0m \u001b[0;34m=\u001b[0m \u001b[0mSudoku\u001b[0m\u001b[0;34m(\u001b[0m\u001b[0mA\u001b[0m\u001b[0;34m)\u001b[0m\u001b[0;34m\u001b[0m\u001b[0;34m\u001b[0m\u001b[0m\n\u001b[1;32m      5\u001b[0m \u001b[0minvalid_sudoku\u001b[0m\u001b[0;34m.\u001b[0m\u001b[0mprint\u001b[0m\u001b[0;34m(\u001b[0m\u001b[0;34m)\u001b[0m\u001b[0;34m\u001b[0m\u001b[0;34m\u001b[0m\u001b[0m\n\u001b[0;32m----> 6\u001b[0;31m \u001b[0minvalid_sudoku\u001b[0m\u001b[0;34m.\u001b[0m\u001b[0msolve\u001b[0m\u001b[0;34m(\u001b[0m\u001b[0;34m)\u001b[0m\u001b[0;34m\u001b[0m\u001b[0;34m\u001b[0m\u001b[0m\n\u001b[0m",
            "\u001b[0;32m<ipython-input-48-58d449372534>\u001b[0m in \u001b[0;36msolve\u001b[0;34m(self)\u001b[0m\n\u001b[1;32m    170\u001b[0m     \u001b[0;32melse\u001b[0m\u001b[0;34m:\u001b[0m\u001b[0;34m\u001b[0m\u001b[0;34m\u001b[0m\u001b[0m\n\u001b[1;32m    171\u001b[0m \u001b[0;34m\u001b[0m\u001b[0m\n\u001b[0;32m--> 172\u001b[0;31m       \u001b[0;32mraise\u001b[0m \u001b[0mValueError\u001b[0m\u001b[0;34m(\u001b[0m\u001b[0;34m'Sudoku is invalid. Invalid Sudokus cannot be solved.'\u001b[0m\u001b[0;34m)\u001b[0m\u001b[0;34m\u001b[0m\u001b[0;34m\u001b[0m\u001b[0m\n\u001b[0m\u001b[1;32m    173\u001b[0m \u001b[0;34m\u001b[0m\u001b[0m\n\u001b[1;32m    174\u001b[0m \u001b[0;34m\u001b[0m\u001b[0m\n",
            "\u001b[0;31mValueError\u001b[0m: Sudoku is invalid. Invalid Sudokus cannot be solved."
          ]
        }
      ]
    },
    {
      "cell_type": "code",
      "source": [],
      "metadata": {
        "id": "9tXC4ROBOWrv"
      },
      "execution_count": null,
      "outputs": []
    }
  ]
}