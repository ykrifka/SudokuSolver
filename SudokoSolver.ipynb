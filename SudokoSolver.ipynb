{
  "nbformat": 4,
  "nbformat_minor": 0,
  "metadata": {
    "colab": {
      "name": "SudokoSolver.ipynb",
      "provenance": [],
      "collapsed_sections": [],
      "authorship_tag": "ABX9TyPt5fGceNiYuED/P1nYP8Et"
    },
    "kernelspec": {
      "name": "python3",
      "display_name": "Python 3"
    },
    "language_info": {
      "name": "python"
    }
  },
  "cells": [
    {
      "cell_type": "code",
      "execution_count": 3,
      "metadata": {
        "id": "z8M7k60mM01s"
      },
      "outputs": [],
      "source": [
        "import numpy as np\n",
        "import matplotlib.pyplot as plt\n",
        "import numpy.random as random"
      ]
    },
    {
      "cell_type": "code",
      "source": [
        "class Sudoku():\n",
        "  # Initialize sudoko with zeros if nothing else is given\n",
        "  def __init__(self, A = np.zeros([9,9],int)):\n",
        "    self.sudo = np.array(A, int)\n",
        "\n",
        "  # Print sudoku\n",
        "  def print(self):\n",
        "    for i in range(9):\n",
        "      line = \"\"\n",
        "      # Generate content of new line:\n",
        "      for j in range(9):\n",
        "        # Every third letter is \"|\"\n",
        "        if not j % 3 and j!=0:\n",
        "          line += \"| \"\n",
        "        # If entry is not 0 print it, otherwise put a whitespace\n",
        "        if self.sudo[i,j] !=0:\n",
        "          line += str(self.sudo[i,j]) + \" \"\n",
        "        else:\n",
        "          line += \"  \"\n",
        "      # Every thrid row put a horizontal line  \n",
        "      if not i % 3 and i !=0:\n",
        "        print( \"---------------------\" )\n",
        "      print(line)\n",
        "  \n",
        "  # Compute the possible entries at i,j given the other numbers in the sudoku\n",
        "  def possibilities(self,i,j):\n",
        "    complement = []\n",
        "\n",
        "    # Add all numbers in the same row to complement\n",
        "    for k in range(9):\n",
        "      x = self.sudo[i,k]\n",
        "      if x != 0:\n",
        "        complement += [x]\n",
        "\n",
        "    # Add all numbers in the same column to complement\n",
        "    for k in range(9):\n",
        "      x = self.sudo[k,j]\n",
        "      if x != 0:\n",
        "        complement += [x]\n",
        "    \n",
        "    # Add all numbers in the same 3x3-square to complement\n",
        "    a = i // 3\n",
        "    b = j //3\n",
        "    for k in range(3):\n",
        "      for l in range(3):\n",
        "        x = self.sudo[3*a + k, 3*b + l]\n",
        "        if x != 0:\n",
        "          complement += [x]\n",
        "    \n",
        "    # Return the complement of complement... lol\n",
        "    return set(range(1,10)) - set(complement)\n",
        "\n",
        "  # Verify that the sudoku is valid\n",
        "  def isValid(self):\n",
        "    # Check each row\n",
        "    for i in range(9):\n",
        "      nums = []\n",
        "      for j in range(9):\n",
        "        x = self.sudo[i,j]\n",
        "        if x != 0:\n",
        "          if x in nums:\n",
        "            return False\n",
        "          else:\n",
        "            nums += [x]\n",
        "\n",
        "    # Check each column\n",
        "    for j in range(9):\n",
        "      nums = []\n",
        "      for i in range(9):\n",
        "        x = self.sudo[i,j]\n",
        "        if x != 0:\n",
        "          if x in nums:\n",
        "            return False\n",
        "          else:\n",
        "            nums += [x]\n",
        "\n",
        "    # Check each square\n",
        "    for i in range(3):\n",
        "      for j in range(3):\n",
        "        nums = []\n",
        "        for k in range(3):\n",
        "          for l in range(3):\n",
        "            x = self.sudo[3*i + k, 3*j + l]\n",
        "            if x != 0:\n",
        "              if x in nums:\n",
        "                return False\n",
        "              else:\n",
        "                nums += [x]\n",
        "    return True\n",
        "\n",
        "  # Solve the sudoku but first check if it is actually valid:\n",
        "  def solve(self):\n",
        "    if self.isValid():\n",
        "      return self.solve_helper()\n",
        "    else:\n",
        "      raise ValueError('Sudoku is invalid. Invalid sudokus cannot be solved.')\n",
        "\n",
        "  # Solve the sudoku recursively\n",
        "  def solve_helper(self):\n",
        "    # i0, j0 is the position of the first 0 entry\n",
        "    i0, j0 = None, None\n",
        "\n",
        "    # Find the first 0 entry and store its position in i0, j0\n",
        "    for i in range(9):\n",
        "      for j in range(9):\n",
        "        if self.sudo[i,j] == 0:\n",
        "          i0 = i\n",
        "          j0 = j\n",
        "          break\n",
        "\n",
        "    # If the sudoku is completely filled in we are done\n",
        "    if i0 is None:\n",
        "      return True\n",
        "    else:\n",
        "      # Otherwise we consider all the possible numbers at i0, j0\n",
        "      pos = self.possibilities(i0,j0)\n",
        "      if pos:\n",
        "        # If there are some possibilities...\n",
        "        for x in pos:\n",
        "          # ... iterate through them...\n",
        "          self.sudo[i0,j0] = x\n",
        "          # ... and see if they solve the sudoku:\n",
        "          if self.solve_helper():\n",
        "            return True\n",
        "        # If none of the possible entries at i0, j0 can solve the sudoku there is a problem and we return \"False\"\n",
        "        self.sudo[i0,j0] = 0\n",
        "        return False\n",
        "      else:\n",
        "        # If there are no possible entries at i0, j0 there is a problem as well\n",
        "        self.sudo[i0,j0] = 0\n",
        "        return False\n",
        "  \n",
        "  # Generate a random sudoku\n",
        "  def generate(self, seed = None):\n",
        "    s = Sudoku()\n"
      ],
      "metadata": {
        "id": "beCplUzN9aZQ"
      },
      "execution_count": 45,
      "outputs": []
    },
    {
      "cell_type": "code",
      "source": [
        "A = [\n",
        "     [0,6,0,0,1,0,8,7,0],\n",
        "     [0,9,0,0,8,0,6,0,0],\n",
        "     [0,0,0,6,2,0,0,0,0],\n",
        "     [0,0,0,9,6,0,0,0,0],\n",
        "     [0,0,5,0,0,0,0,0,2],\n",
        "     [0,7,9,0,0,0,0,0,5],\n",
        "     [0,0,0,0,0,4,0,0,0],\n",
        "     [2,0,0,0,0,0,0,8,0],\n",
        "     [8,0,0,0,0,0,0,5,1]\n",
        "    ]\n",
        "s = Sudoku(A = A)\n",
        "s.print()"
      ],
      "metadata": {
        "colab": {
          "base_uri": "https://localhost:8080/"
        },
        "id": "GWZ6G2aoHQDS",
        "outputId": "acd75477-a1a2-4c7e-bbd6-65cf61d0a8fa"
      },
      "execution_count": 13,
      "outputs": [
        {
          "output_type": "stream",
          "name": "stdout",
          "text": [
            "  6   |   1   | 8 7   \n",
            "  9   |   8   | 6     \n",
            "      | 6 2   |       \n",
            "---------------------\n",
            "      | 9 6   |       \n",
            "    5 |       |     2 \n",
            "  7 9 |       |     5 \n",
            "---------------------\n",
            "      |     4 |       \n",
            "2     |       |   8   \n",
            "8     |       |   5 1 \n"
          ]
        }
      ]
    },
    {
      "cell_type": "code",
      "source": [
        "s.solve()\n",
        "s.print()"
      ],
      "metadata": {
        "colab": {
          "base_uri": "https://localhost:8080/"
        },
        "id": "6RCgviFHH4Vc",
        "outputId": "6b833a54-0daf-435e-f3a8-e0416d6efb5f"
      },
      "execution_count": 11,
      "outputs": [
        {
          "output_type": "stream",
          "name": "stdout",
          "text": [
            "5 6 2 | 4 1 3 | 8 7 9 \n",
            "1 9 4 | 5 8 7 | 6 2 3 \n",
            "7 3 8 | 6 2 9 | 5 1 4 \n",
            "---------------------\n",
            "3 2 1 | 9 6 5 | 7 4 8 \n",
            "6 8 5 | 7 4 1 | 3 9 2 \n",
            "4 7 9 | 2 3 8 | 1 6 5 \n",
            "---------------------\n",
            "9 1 7 | 8 5 4 | 2 3 6 \n",
            "2 5 3 | 1 9 6 | 4 8 7 \n",
            "8 4 6 | 3 7 2 | 9 5 1 \n"
          ]
        }
      ]
    },
    {
      "cell_type": "code",
      "source": [
        "A = np.zeros([9,9])\n",
        "A[0,0] = 1\n",
        "A[0,1] = 1\n",
        "invalid_sudoku = Sudoku(A = A)\n",
        "invalid_sudoku.print()"
      ],
      "metadata": {
        "colab": {
          "base_uri": "https://localhost:8080/"
        },
        "id": "Qii1S30ZP2co",
        "outputId": "271e9a69-fb9e-4aec-fd84-f939fad41110"
      },
      "execution_count": 46,
      "outputs": [
        {
          "output_type": "stream",
          "name": "stdout",
          "text": [
            "1 1   |       |       \n",
            "      |       |       \n",
            "      |       |       \n",
            "---------------------\n",
            "      |       |       \n",
            "      |       |       \n",
            "      |       |       \n",
            "---------------------\n",
            "      |       |       \n",
            "      |       |       \n",
            "      |       |       \n"
          ]
        }
      ]
    },
    {
      "cell_type": "code",
      "source": [
        "invalid_sudoku.solve()"
      ],
      "metadata": {
        "colab": {
          "base_uri": "https://localhost:8080/",
          "height": 300
        },
        "id": "Bg35kHAYQc3v",
        "outputId": "27f02727-b731-4a6e-aabe-cf37db54c6bd"
      },
      "execution_count": 47,
      "outputs": [
        {
          "output_type": "error",
          "ename": "ValueError",
          "evalue": "ignored",
          "traceback": [
            "\u001b[0;31m---------------------------------------------------------------------------\u001b[0m",
            "\u001b[0;31mValueError\u001b[0m                                Traceback (most recent call last)",
            "\u001b[0;32m<ipython-input-47-f0090e8ef2b7>\u001b[0m in \u001b[0;36m<module>\u001b[0;34m()\u001b[0m\n\u001b[0;32m----> 1\u001b[0;31m \u001b[0minvalid_sudoku\u001b[0m\u001b[0;34m.\u001b[0m\u001b[0msolve\u001b[0m\u001b[0;34m(\u001b[0m\u001b[0;34m)\u001b[0m\u001b[0;34m\u001b[0m\u001b[0;34m\u001b[0m\u001b[0m\n\u001b[0m",
            "\u001b[0;32m<ipython-input-45-e57cd6d51fd7>\u001b[0m in \u001b[0;36msolve\u001b[0;34m(self)\u001b[0m\n\u001b[1;32m     55\u001b[0m       \u001b[0;32mreturn\u001b[0m \u001b[0mself\u001b[0m\u001b[0;34m.\u001b[0m\u001b[0msolve_helper\u001b[0m\u001b[0;34m(\u001b[0m\u001b[0;34m)\u001b[0m\u001b[0;34m\u001b[0m\u001b[0;34m\u001b[0m\u001b[0m\n\u001b[1;32m     56\u001b[0m     \u001b[0;32melse\u001b[0m\u001b[0;34m:\u001b[0m\u001b[0;34m\u001b[0m\u001b[0;34m\u001b[0m\u001b[0m\n\u001b[0;32m---> 57\u001b[0;31m       \u001b[0;32mraise\u001b[0m \u001b[0mValueError\u001b[0m\u001b[0;34m(\u001b[0m\u001b[0;34m'Sudoku is invalid. Invalid sudokus cannot be solved.'\u001b[0m\u001b[0;34m)\u001b[0m\u001b[0;34m\u001b[0m\u001b[0;34m\u001b[0m\u001b[0m\n\u001b[0m\u001b[1;32m     58\u001b[0m \u001b[0;34m\u001b[0m\u001b[0m\n\u001b[1;32m     59\u001b[0m   \u001b[0;31m# Solve the sudoku recursively\u001b[0m\u001b[0;34m\u001b[0m\u001b[0;34m\u001b[0m\u001b[0;34m\u001b[0m\u001b[0m\n",
            "\u001b[0;31mValueError\u001b[0m: Sudoku is invalid. Invalid sudokus cannot be solved."
          ]
        }
      ]
    },
    {
      "cell_type": "code",
      "source": [
        "A = np.array(A)\n",
        "X, Y = np.where(A == 0)\n",
        "print(X)\n",
        "print(Y)"
      ],
      "metadata": {
        "colab": {
          "base_uri": "https://localhost:8080/"
        },
        "id": "Ha0_AcfIBeZA",
        "outputId": "f4beaaee-09d9-402d-cbbb-59c457ec7d4b"
      },
      "execution_count": 21,
      "outputs": [
        {
          "output_type": "stream",
          "name": "stdout",
          "text": [
            "[0 0 0 0 0 1 1 1 1 1 1 2 2 2 2 2 2 2 3 3 3 3 3 3 3 4 4 4 4 4 4 4 5 5 5 5 5\n",
            " 5 6 6 6 6 6 6 6 6 7 7 7 7 7 7 7 8 8 8 8 8 8]\n",
            "[0 2 3 5 8 0 2 3 5 7 8 0 1 2 5 6 7 8 0 1 2 5 6 7 8 0 1 3 4 5 6 7 0 3 4 5 6\n",
            " 7 0 1 2 3 4 6 7 8 1 2 3 4 5 6 8 1 2 3 4 5 6]\n"
          ]
        }
      ]
    },
    {
      "cell_type": "code",
      "source": [
        "for a in zip(X,Y):\n",
        "  print(a)"
      ],
      "metadata": {
        "colab": {
          "base_uri": "https://localhost:8080/"
        },
        "id": "kRH5fWn8Em-Z",
        "outputId": "ecd2bd87-7e50-44c7-abac-1f6b0fb60887"
      },
      "execution_count": 22,
      "outputs": [
        {
          "output_type": "stream",
          "name": "stdout",
          "text": [
            "(0, 0)\n",
            "(0, 2)\n",
            "(0, 3)\n",
            "(0, 5)\n",
            "(0, 8)\n",
            "(1, 0)\n",
            "(1, 2)\n",
            "(1, 3)\n",
            "(1, 5)\n",
            "(1, 7)\n",
            "(1, 8)\n",
            "(2, 0)\n",
            "(2, 1)\n",
            "(2, 2)\n",
            "(2, 5)\n",
            "(2, 6)\n",
            "(2, 7)\n",
            "(2, 8)\n",
            "(3, 0)\n",
            "(3, 1)\n",
            "(3, 2)\n",
            "(3, 5)\n",
            "(3, 6)\n",
            "(3, 7)\n",
            "(3, 8)\n",
            "(4, 0)\n",
            "(4, 1)\n",
            "(4, 3)\n",
            "(4, 4)\n",
            "(4, 5)\n",
            "(4, 6)\n",
            "(4, 7)\n",
            "(5, 0)\n",
            "(5, 3)\n",
            "(5, 4)\n",
            "(5, 5)\n",
            "(5, 6)\n",
            "(5, 7)\n",
            "(6, 0)\n",
            "(6, 1)\n",
            "(6, 2)\n",
            "(6, 3)\n",
            "(6, 4)\n",
            "(6, 6)\n",
            "(6, 7)\n",
            "(6, 8)\n",
            "(7, 1)\n",
            "(7, 2)\n",
            "(7, 3)\n",
            "(7, 4)\n",
            "(7, 5)\n",
            "(7, 6)\n",
            "(7, 8)\n",
            "(8, 1)\n",
            "(8, 2)\n",
            "(8, 3)\n",
            "(8, 4)\n",
            "(8, 5)\n",
            "(8, 6)\n"
          ]
        }
      ]
    },
    {
      "cell_type": "code",
      "source": [
        ""
      ],
      "metadata": {
        "id": "tJys_aUJFZcN"
      },
      "execution_count": null,
      "outputs": []
    }
  ]
}