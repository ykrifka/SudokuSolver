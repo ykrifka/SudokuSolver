{
  "nbformat": 4,
  "nbformat_minor": 0,
  "metadata": {
    "colab": {
      "name": "SudokoSolver.ipynb",
      "provenance": [],
      "authorship_tag": "ABX9TyMIA1r9Wtq8Q+WbQQhMXPnL",
      "include_colab_link": true
    },
    "kernelspec": {
      "name": "python3",
      "display_name": "Python 3"
    },
    "language_info": {
      "name": "python"
    }
  },
  "cells": [
    {
      "cell_type": "markdown",
      "metadata": {
        "id": "view-in-github",
        "colab_type": "text"
      },
      "source": [
        "<a href=\"https://colab.research.google.com/github/ykrifka/SudokuSolver/blob/main/SudokoSolver.ipynb\" target=\"_parent\"><img src=\"https://colab.research.google.com/assets/colab-badge.svg\" alt=\"Open In Colab\"/></a>"
      ]
    },
    {
      "cell_type": "code",
      "execution_count": 1,
      "metadata": {
        "id": "z8M7k60mM01s"
      },
      "outputs": [],
      "source": [
        "import numpy as np\n",
        "import matplotlib.pyplot as plt\n",
        "import numpy.random as random"
      ]
    },
    {
      "cell_type": "code",
      "source": [
        "class Sudoku():\n",
        "  # Initialize Sudoko with zeros if nothing else is given\n",
        "  def __init__(self, A = np.zeros([9,9],int)):\n",
        "    self.sudo = np.array(A)\n",
        "\n",
        "  # Print Sudoku\n",
        "  def print(self):\n",
        "    for i in range(9):\n",
        "      line = \"\"\n",
        "      # Generate content of new line:\n",
        "      for j in range(9):\n",
        "        # Every third letter is \"|\"\n",
        "        if not j % 3 and j!=0:\n",
        "          line += \"|\"\n",
        "        # If entry is not 0 print it, otherwise put a whitespace\n",
        "        if self.sudo[i,j] !=0:\n",
        "          line += str(self.sudo[i,j]) + \" \"\n",
        "        else:\n",
        "          line += \"  \"\n",
        "      # Every thrid row put a horizontal line  \n",
        "      if not i % 3 and i !=0:\n",
        "        print( \"--------------------\" )\n",
        "      print(line)\n",
        "  \n",
        "  # Compute the possible entries at i,j given the other numbers in the sudoku\n",
        "  def possibilities(self,i,j):\n",
        "    complement = []\n",
        "\n",
        "    # Add all numbers in the same row to complement\n",
        "    for k in range(9):\n",
        "      x = self.sudo[i,k]\n",
        "      if x != 0:\n",
        "        complement += [x]\n",
        "\n",
        "    # Add all numbers in the same column to complement\n",
        "    for k in range(9):\n",
        "      x = self.sudo[k,j]\n",
        "      if x != 0:\n",
        "        complement += [x]\n",
        "    \n",
        "    # Add all numbers in the same 3x3-square to complement\n",
        "    a = i // 3\n",
        "    b = j //3\n",
        "    for k in range(3):\n",
        "      for l in range(3):\n",
        "        x = self.sudo[3*a + k, 3*b + l]\n",
        "        if x != 0:\n",
        "          complement += [x]\n",
        "    \n",
        "    # Return the complement of complement... lol\n",
        "    return set(range(1,10)) - set(complement)\n",
        "\n",
        "  # Solve the sudoku recursively\n",
        "  def solve(self):\n",
        "    # i0, j0 is the position of the first 0 entry\n",
        "    i0, j0 = None, None\n",
        "\n",
        "    # Find the first 0 entry and store its position in i0, j0\n",
        "    for i in range(9):\n",
        "      for j in range(9):\n",
        "        if self.sudo[i,j] == 0:\n",
        "          i0 = i\n",
        "          j0 = j\n",
        "          break\n",
        "\n",
        "    # If the sudoku is completely filled in we are done\n",
        "    if i0 is None:\n",
        "      return True\n",
        "    else:\n",
        "      # Otherwise we consider all the possible numbers at i0, j0\n",
        "      pos = self.possibilities(i0,j0)\n",
        "      if pos:\n",
        "        # If there are some possibilities...\n",
        "        for x in pos:\n",
        "          # ... iterate through them...\n",
        "          self.sudo[i0,j0] = x\n",
        "          # ... and see if they solve the sudoku:\n",
        "          if self.solve():\n",
        "            return True\n",
        "        # If none of the possible entries at i0, j0 can solve the sudoku there is a problem and we return \"False\"\n",
        "        self.sudo[i0,j0] = 0\n",
        "        return False\n",
        "      else:\n",
        "        # If there are no possible entries at i0, j0 there is a problem as well\n",
        "        self.sudo[i0,j0] = 0\n",
        "        return False\n",
        "          "
      ],
      "metadata": {
        "id": "beCplUzN9aZQ"
      },
      "execution_count": 21,
      "outputs": []
    },
    {
      "cell_type": "code",
      "source": [
        "s = Sudoku()\n",
        "s.print()\n",
        "s.solve()\n",
        "s.print()"
      ],
      "metadata": {
        "colab": {
          "base_uri": "https://localhost:8080/"
        },
        "id": "B4p6dRgiGf3A",
        "outputId": "19cd1da7-3830-4b00-ea25-754911cd7a53"
      },
      "execution_count": 23,
      "outputs": [
        {
          "output_type": "stream",
          "name": "stdout",
          "text": [
            "      |      |      \n",
            "      |      |      \n",
            "      |      |      \n",
            "--------------------\n",
            "      |      |      \n",
            "      |      |      \n",
            "      |      |      \n",
            "--------------------\n",
            "      |      |      \n",
            "      |      |      \n",
            "      |      |      \n",
            "7 4 5 |2 9 1 |6 3 8 \n",
            "6 3 2 |7 8 5 |4 9 1 \n",
            "8 9 1 |3 4 6 |7 5 2 \n",
            "--------------------\n",
            "5 7 6 |9 1 2 |3 8 4 \n",
            "3 8 4 |5 6 7 |2 1 9 \n",
            "2 1 9 |8 3 4 |5 7 6 \n",
            "--------------------\n",
            "9 6 7 |1 2 3 |8 4 5 \n",
            "4 5 8 |6 7 9 |1 2 3 \n",
            "1 2 3 |4 5 8 |9 6 7 \n"
          ]
        }
      ]
    },
    {
      "cell_type": "code",
      "source": [
        "A = [\n",
        "     [0,6,0,0,1,0,8,7,0],\n",
        "     [0,9,0,0,8,0,6,0,0],\n",
        "     [0,0,0,6,2,0,0,0,0],\n",
        "     [0,0,0,9,6,0,0,0,0],\n",
        "     [0,0,5,0,0,0,0,0,2],\n",
        "     [0,7,9,0,0,0,0,0,5],\n",
        "     [0,0,0,0,0,4,0,0,0],\n",
        "     [2,0,0,0,0,0,0,8,0],\n",
        "     [8,0,0,0,0,0,0,5,1]\n",
        "]\n",
        "s = Sudoku(A = A)\n",
        "s.print()"
      ],
      "metadata": {
        "colab": {
          "base_uri": "https://localhost:8080/"
        },
        "id": "GWZ6G2aoHQDS",
        "outputId": "53297526-eef5-4363-c570-24bbce09de36"
      },
      "execution_count": 26,
      "outputs": [
        {
          "output_type": "stream",
          "name": "stdout",
          "text": [
            "  6   |  1   |8 7   \n",
            "  9   |  8   |6     \n",
            "      |6 2   |      \n",
            "--------------------\n",
            "      |9 6   |      \n",
            "    5 |      |    2 \n",
            "  7 9 |      |    5 \n",
            "--------------------\n",
            "      |    4 |      \n",
            "2     |      |  8   \n",
            "8     |      |  5 1 \n"
          ]
        }
      ]
    },
    {
      "cell_type": "code",
      "source": [
        "s.solve()\n",
        "s.print()"
      ],
      "metadata": {
        "colab": {
          "base_uri": "https://localhost:8080/"
        },
        "id": "6RCgviFHH4Vc",
        "outputId": "85c43dd5-0960-4360-90fe-c3126eddac0b"
      },
      "execution_count": 27,
      "outputs": [
        {
          "output_type": "stream",
          "name": "stdout",
          "text": [
            "5 6 2 |4 1 3 |8 7 9 \n",
            "1 9 4 |5 8 7 |6 2 3 \n",
            "7 3 8 |6 2 9 |5 1 4 \n",
            "--------------------\n",
            "3 2 1 |9 6 5 |7 4 8 \n",
            "6 8 5 |7 4 1 |3 9 2 \n",
            "4 7 9 |2 3 8 |1 6 5 \n",
            "--------------------\n",
            "9 1 7 |8 5 4 |2 3 6 \n",
            "2 5 3 |1 9 6 |4 8 7 \n",
            "8 4 6 |3 7 2 |9 5 1 \n"
          ]
        }
      ]
    },
    {
      "cell_type": "code",
      "source": [
        "def possible_entries(s,i,j):\n",
        "  complement = []\n",
        "  for k in range(9):\n",
        "    x = s[i,k]\n",
        "    if x != 0:\n",
        "      complement += [x]\n",
        "  for k in range(9):\n",
        "    x = s[k,j]\n",
        "    if x != 0:\n",
        "      complement += [x]\n",
        "  a = i // 3\n",
        "  b = j //3\n",
        "  for k in range(3):\n",
        "    for l in range(3):\n",
        "      x = s[3*a + k, 3*b + l]\n",
        "      if x != 0:\n",
        "        complement += [x]\n",
        "        \n",
        "  return set(range(1,10)) - set(complement)"
      ],
      "metadata": {
        "id": "eO50SI1IM_4Y"
      },
      "execution_count": null,
      "outputs": []
    },
    {
      "cell_type": "code",
      "source": [
        "def print_s(s):\n",
        "  for i in range(9):\n",
        "    line = \"\"\n",
        "    for j in range(9):\n",
        "      if not j % 3 and j!=0:\n",
        "        line += \"|\"\n",
        "      if s[i,j] !=0:\n",
        "        line += str(s[i,j]) + \" \"\n",
        "      else:\n",
        "        line += \"  \"  \n",
        "    if not i % 3 and i !=0:\n",
        "      print( \"--------------------\" )\n",
        "    print(line)"
      ],
      "metadata": {
        "id": "h2a2Bng_PpEQ"
      },
      "execution_count": null,
      "outputs": []
    },
    {
      "cell_type": "code",
      "source": [
        "s = np.zeros([9,9],int)"
      ],
      "metadata": {
        "id": "4ZXlWmzaN54M"
      },
      "execution_count": null,
      "outputs": []
    },
    {
      "cell_type": "code",
      "source": [
        "s[2,8] = 4\n",
        "print_s(s)"
      ],
      "metadata": {
        "colab": {
          "base_uri": "https://localhost:8080/"
        },
        "id": "Wz9DFYFrRwt7",
        "outputId": "e0e2fc5b-85ce-432e-905c-894e8cfb0a21"
      },
      "execution_count": null,
      "outputs": [
        {
          "output_type": "stream",
          "name": "stdout",
          "text": [
            "1     |  2   |      \n",
            "      |      |      \n",
            "    9 |      |    4 \n",
            "--------------------\n",
            "      |      |      \n",
            "      |      |      \n",
            "      |      |      \n",
            "--------------------\n",
            "      |      |      \n",
            "      |      |      \n",
            "      |      |      \n"
          ]
        }
      ]
    },
    {
      "cell_type": "code",
      "source": [
        "possible_entries(s,2,0)"
      ],
      "metadata": {
        "colab": {
          "base_uri": "https://localhost:8080/"
        },
        "id": "K35WGoo2OmLs",
        "outputId": "7c3513ba-f07d-4a07-8539-9965b7c4df16"
      },
      "execution_count": null,
      "outputs": [
        {
          "output_type": "execute_result",
          "data": {
            "text/plain": [
              "{2, 3, 5, 6, 7, 8}"
            ]
          },
          "metadata": {},
          "execution_count": 69
        }
      ]
    },
    {
      "cell_type": "code",
      "source": [
        ""
      ],
      "metadata": {
        "id": "rWAZ9_yaTmwl"
      },
      "execution_count": null,
      "outputs": []
    }
  ]
}