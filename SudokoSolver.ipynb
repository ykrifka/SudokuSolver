{
  "nbformat": 4,
  "nbformat_minor": 0,
  "metadata": {
    "colab": {
      "name": "SudokoSolver.ipynb",
      "provenance": [],
      "authorship_tag": "ABX9TyMuCAmwJavXYV80Q0dMcm1G",
      "include_colab_link": true
    },
    "kernelspec": {
      "name": "python3",
      "display_name": "Python 3"
    },
    "language_info": {
      "name": "python"
    }
  },
  "cells": [
    {
      "cell_type": "markdown",
      "metadata": {
        "id": "view-in-github",
        "colab_type": "text"
      },
      "source": [
        "<a href=\"https://colab.research.google.com/github/ykrifka/SudokuSolver/blob/main/SudokoSolver.ipynb\" target=\"_parent\"><img src=\"https://colab.research.google.com/assets/colab-badge.svg\" alt=\"Open In Colab\"/></a>"
      ]
    },
    {
      "cell_type": "code",
      "execution_count": null,
      "metadata": {
        "id": "z8M7k60mM01s"
      },
      "outputs": [],
      "source": [
        "import numpy as np\n",
        "import matplotlib.pyplot as plt\n",
        "import numpy.random as random"
      ]
    },
    {
      "cell_type": "code",
      "source": [
        "def possible_entries(s,i,j):\n",
        "  complement = []\n",
        "  for k in range(9):\n",
        "    x = s[i,k]\n",
        "    if x != 0:\n",
        "      complement += [x]\n",
        "  for k in range(9):\n",
        "    x = s[k,j]\n",
        "    if x != 0:\n",
        "      complement += [x]\n",
        "  a = i // 3\n",
        "  b = j //3\n",
        "  for k in range(3):\n",
        "    for l in range(3):\n",
        "      x = s[3*a + k, 3*b + l]\n",
        "      if x != 0:\n",
        "        complement += [x]\n",
        "        \n",
        "  return set(range(1,10)) - set(complement)"
      ],
      "metadata": {
        "id": "eO50SI1IM_4Y"
      },
      "execution_count": null,
      "outputs": []
    },
    {
      "cell_type": "code",
      "source": [
        "def print_s(s):\n",
        "  for i in range(9):\n",
        "    line = \"\"\n",
        "    for j in range(9):\n",
        "      if not j % 3 and j!=0:\n",
        "        line += \"|\"\n",
        "      if s[i,j] !=0:\n",
        "        line += str(s[i,j]) + \" \"\n",
        "      else:\n",
        "        line += \"  \"  \n",
        "    if not i % 3 and i !=0:\n",
        "      print( \"--------------------\" )\n",
        "    print(line)"
      ],
      "metadata": {
        "id": "h2a2Bng_PpEQ"
      },
      "execution_count": null,
      "outputs": []
    },
    {
      "cell_type": "code",
      "source": [
        "s = np.zeros([9,9],int)"
      ],
      "metadata": {
        "id": "4ZXlWmzaN54M"
      },
      "execution_count": null,
      "outputs": []
    },
    {
      "cell_type": "code",
      "source": [
        "s[2,8] = 4\n",
        "print_s(s)"
      ],
      "metadata": {
        "colab": {
          "base_uri": "https://localhost:8080/"
        },
        "id": "Wz9DFYFrRwt7",
        "outputId": "e0e2fc5b-85ce-432e-905c-894e8cfb0a21"
      },
      "execution_count": null,
      "outputs": [
        {
          "output_type": "stream",
          "name": "stdout",
          "text": [
            "1     |  2   |      \n",
            "      |      |      \n",
            "    9 |      |    4 \n",
            "--------------------\n",
            "      |      |      \n",
            "      |      |      \n",
            "      |      |      \n",
            "--------------------\n",
            "      |      |      \n",
            "      |      |      \n",
            "      |      |      \n"
          ]
        }
      ]
    },
    {
      "cell_type": "code",
      "source": [
        "possible_entries(s,2,0)"
      ],
      "metadata": {
        "colab": {
          "base_uri": "https://localhost:8080/"
        },
        "id": "K35WGoo2OmLs",
        "outputId": "7c3513ba-f07d-4a07-8539-9965b7c4df16"
      },
      "execution_count": null,
      "outputs": [
        {
          "output_type": "execute_result",
          "data": {
            "text/plain": [
              "{2, 3, 5, 6, 7, 8}"
            ]
          },
          "metadata": {},
          "execution_count": 69
        }
      ]
    },
    {
      "cell_type": "code",
      "source": [
        ""
      ],
      "metadata": {
        "id": "rWAZ9_yaTmwl"
      },
      "execution_count": null,
      "outputs": []
    }
  ]
}